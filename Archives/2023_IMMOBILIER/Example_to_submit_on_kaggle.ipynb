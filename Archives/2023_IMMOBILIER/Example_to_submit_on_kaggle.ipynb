{
  "nbformat": 4,
  "nbformat_minor": 0,
  "metadata": {
    "colab": {
      "provenance": []
    },
    "kernelspec": {
      "name": "python3",
      "display_name": "Python 3"
    },
    "language_info": {
      "name": "python"
    }
  },
  "cells": [
    {
      "cell_type": "markdown",
      "source": [
        "# Kaggle API.\n",
        "In order to use the Kaggle’s public API to interact with Kaggle resources, we must first authenticate using an API token.\n",
        "\n",
        "Authentication.\n",
        "From the site header, click on your user profile picture, then go to the ‘Account’ tab of your user profile this will take you to your account settings, scroll down to the section of the page labelled API. To create a new token, click on the “Create New API Token” button. This will trigger the download of kaggle.json, a file containing your API credentials."
      ],
      "metadata": {
        "id": "il8HRGl1YbI_"
      }
    },
    {
      "cell_type": "markdown",
      "source": [
        "# Upload token\n",
        "Choose the kaggle.json file that you downloaded"
      ],
      "metadata": {
        "id": "ObA6VLmDYarh"
      }
    },
    {
      "cell_type": "code",
      "execution_count": 1,
      "metadata": {
        "colab": {
          "base_uri": "https://localhost:8080/",
          "height": 90
        },
        "id": "loc_KpyBQYzG",
        "outputId": "e2be5c47-ec9f-4b86-cb51-849304fa6d91"
      },
      "outputs": [
        {
          "output_type": "display_data",
          "data": {
            "text/plain": [
              "<IPython.core.display.HTML object>"
            ],
            "text/html": [
              "\n",
              "     <input type=\"file\" id=\"files-778891c2-4f9d-4d50-a6bc-e19dd6dc968e\" name=\"files[]\" multiple disabled\n",
              "        style=\"border:none\" />\n",
              "     <output id=\"result-778891c2-4f9d-4d50-a6bc-e19dd6dc968e\">\n",
              "      Upload widget is only available when the cell has been executed in the\n",
              "      current browser session. Please rerun this cell to enable.\n",
              "      </output>\n",
              "      <script>// Copyright 2017 Google LLC\n",
              "//\n",
              "// Licensed under the Apache License, Version 2.0 (the \"License\");\n",
              "// you may not use this file except in compliance with the License.\n",
              "// You may obtain a copy of the License at\n",
              "//\n",
              "//      http://www.apache.org/licenses/LICENSE-2.0\n",
              "//\n",
              "// Unless required by applicable law or agreed to in writing, software\n",
              "// distributed under the License is distributed on an \"AS IS\" BASIS,\n",
              "// WITHOUT WARRANTIES OR CONDITIONS OF ANY KIND, either express or implied.\n",
              "// See the License for the specific language governing permissions and\n",
              "// limitations under the License.\n",
              "\n",
              "/**\n",
              " * @fileoverview Helpers for google.colab Python module.\n",
              " */\n",
              "(function(scope) {\n",
              "function span(text, styleAttributes = {}) {\n",
              "  const element = document.createElement('span');\n",
              "  element.textContent = text;\n",
              "  for (const key of Object.keys(styleAttributes)) {\n",
              "    element.style[key] = styleAttributes[key];\n",
              "  }\n",
              "  return element;\n",
              "}\n",
              "\n",
              "// Max number of bytes which will be uploaded at a time.\n",
              "const MAX_PAYLOAD_SIZE = 100 * 1024;\n",
              "\n",
              "function _uploadFiles(inputId, outputId) {\n",
              "  const steps = uploadFilesStep(inputId, outputId);\n",
              "  const outputElement = document.getElementById(outputId);\n",
              "  // Cache steps on the outputElement to make it available for the next call\n",
              "  // to uploadFilesContinue from Python.\n",
              "  outputElement.steps = steps;\n",
              "\n",
              "  return _uploadFilesContinue(outputId);\n",
              "}\n",
              "\n",
              "// This is roughly an async generator (not supported in the browser yet),\n",
              "// where there are multiple asynchronous steps and the Python side is going\n",
              "// to poll for completion of each step.\n",
              "// This uses a Promise to block the python side on completion of each step,\n",
              "// then passes the result of the previous step as the input to the next step.\n",
              "function _uploadFilesContinue(outputId) {\n",
              "  const outputElement = document.getElementById(outputId);\n",
              "  const steps = outputElement.steps;\n",
              "\n",
              "  const next = steps.next(outputElement.lastPromiseValue);\n",
              "  return Promise.resolve(next.value.promise).then((value) => {\n",
              "    // Cache the last promise value to make it available to the next\n",
              "    // step of the generator.\n",
              "    outputElement.lastPromiseValue = value;\n",
              "    return next.value.response;\n",
              "  });\n",
              "}\n",
              "\n",
              "/**\n",
              " * Generator function which is called between each async step of the upload\n",
              " * process.\n",
              " * @param {string} inputId Element ID of the input file picker element.\n",
              " * @param {string} outputId Element ID of the output display.\n",
              " * @return {!Iterable<!Object>} Iterable of next steps.\n",
              " */\n",
              "function* uploadFilesStep(inputId, outputId) {\n",
              "  const inputElement = document.getElementById(inputId);\n",
              "  inputElement.disabled = false;\n",
              "\n",
              "  const outputElement = document.getElementById(outputId);\n",
              "  outputElement.innerHTML = '';\n",
              "\n",
              "  const pickedPromise = new Promise((resolve) => {\n",
              "    inputElement.addEventListener('change', (e) => {\n",
              "      resolve(e.target.files);\n",
              "    });\n",
              "  });\n",
              "\n",
              "  const cancel = document.createElement('button');\n",
              "  inputElement.parentElement.appendChild(cancel);\n",
              "  cancel.textContent = 'Cancel upload';\n",
              "  const cancelPromise = new Promise((resolve) => {\n",
              "    cancel.onclick = () => {\n",
              "      resolve(null);\n",
              "    };\n",
              "  });\n",
              "\n",
              "  // Wait for the user to pick the files.\n",
              "  const files = yield {\n",
              "    promise: Promise.race([pickedPromise, cancelPromise]),\n",
              "    response: {\n",
              "      action: 'starting',\n",
              "    }\n",
              "  };\n",
              "\n",
              "  cancel.remove();\n",
              "\n",
              "  // Disable the input element since further picks are not allowed.\n",
              "  inputElement.disabled = true;\n",
              "\n",
              "  if (!files) {\n",
              "    return {\n",
              "      response: {\n",
              "        action: 'complete',\n",
              "      }\n",
              "    };\n",
              "  }\n",
              "\n",
              "  for (const file of files) {\n",
              "    const li = document.createElement('li');\n",
              "    li.append(span(file.name, {fontWeight: 'bold'}));\n",
              "    li.append(span(\n",
              "        `(${file.type || 'n/a'}) - ${file.size} bytes, ` +\n",
              "        `last modified: ${\n",
              "            file.lastModifiedDate ? file.lastModifiedDate.toLocaleDateString() :\n",
              "                                    'n/a'} - `));\n",
              "    const percent = span('0% done');\n",
              "    li.appendChild(percent);\n",
              "\n",
              "    outputElement.appendChild(li);\n",
              "\n",
              "    const fileDataPromise = new Promise((resolve) => {\n",
              "      const reader = new FileReader();\n",
              "      reader.onload = (e) => {\n",
              "        resolve(e.target.result);\n",
              "      };\n",
              "      reader.readAsArrayBuffer(file);\n",
              "    });\n",
              "    // Wait for the data to be ready.\n",
              "    let fileData = yield {\n",
              "      promise: fileDataPromise,\n",
              "      response: {\n",
              "        action: 'continue',\n",
              "      }\n",
              "    };\n",
              "\n",
              "    // Use a chunked sending to avoid message size limits. See b/62115660.\n",
              "    let position = 0;\n",
              "    do {\n",
              "      const length = Math.min(fileData.byteLength - position, MAX_PAYLOAD_SIZE);\n",
              "      const chunk = new Uint8Array(fileData, position, length);\n",
              "      position += length;\n",
              "\n",
              "      const base64 = btoa(String.fromCharCode.apply(null, chunk));\n",
              "      yield {\n",
              "        response: {\n",
              "          action: 'append',\n",
              "          file: file.name,\n",
              "          data: base64,\n",
              "        },\n",
              "      };\n",
              "\n",
              "      let percentDone = fileData.byteLength === 0 ?\n",
              "          100 :\n",
              "          Math.round((position / fileData.byteLength) * 100);\n",
              "      percent.textContent = `${percentDone}% done`;\n",
              "\n",
              "    } while (position < fileData.byteLength);\n",
              "  }\n",
              "\n",
              "  // All done.\n",
              "  yield {\n",
              "    response: {\n",
              "      action: 'complete',\n",
              "    }\n",
              "  };\n",
              "}\n",
              "\n",
              "scope.google = scope.google || {};\n",
              "scope.google.colab = scope.google.colab || {};\n",
              "scope.google.colab._files = {\n",
              "  _uploadFiles,\n",
              "  _uploadFilesContinue,\n",
              "};\n",
              "})(self);\n",
              "</script> "
            ]
          },
          "metadata": {}
        },
        {
          "output_type": "stream",
          "name": "stdout",
          "text": [
            "Saving kaggle.json to kaggle.json\n"
          ]
        },
        {
          "output_type": "execute_result",
          "data": {
            "text/plain": [
              "{'kaggle.json': b'{\"username\":\"asardellitti\",\"key\":\"3864158f66cd5b1d7fc8d651e98d4320\"}'}"
            ]
          },
          "metadata": {},
          "execution_count": 1
        }
      ],
      "source": [
        "from google.colab import files\n",
        "files.upload()"
      ]
    },
    {
      "cell_type": "markdown",
      "source": [
        "Make directory named kaggle and copy kaggle.json file there."
      ],
      "metadata": {
        "id": "xdSb9kkmZskF"
      }
    },
    {
      "cell_type": "code",
      "source": [
        "!mkdir -p ~/.kaggle\n",
        "!cp kaggle.json ~/.kaggle/"
      ],
      "metadata": {
        "id": "kbWQsrpgSy_x"
      },
      "execution_count": 2,
      "outputs": []
    },
    {
      "cell_type": "markdown",
      "source": [
        "# Kaggle API\n",
        "Execute the following command to install the Kaggle API."
      ],
      "metadata": {
        "id": "HL4dZLRUZ8qv"
      }
    },
    {
      "cell_type": "code",
      "source": [
        "!pip install kaggle"
      ],
      "metadata": {
        "colab": {
          "base_uri": "https://localhost:8080/"
        },
        "id": "JiXKGOygSz5X",
        "outputId": "8651a1f5-ccb5-44bc-fe86-a54d1ba224b3"
      },
      "execution_count": 3,
      "outputs": [
        {
          "output_type": "stream",
          "name": "stdout",
          "text": [
            "Requirement already satisfied: kaggle in /usr/local/lib/python3.10/dist-packages (1.5.16)\n",
            "Requirement already satisfied: six>=1.10 in /usr/local/lib/python3.10/dist-packages (from kaggle) (1.16.0)\n",
            "Requirement already satisfied: certifi in /usr/local/lib/python3.10/dist-packages (from kaggle) (2023.7.22)\n",
            "Requirement already satisfied: python-dateutil in /usr/local/lib/python3.10/dist-packages (from kaggle) (2.8.2)\n",
            "Requirement already satisfied: requests in /usr/local/lib/python3.10/dist-packages (from kaggle) (2.31.0)\n",
            "Requirement already satisfied: tqdm in /usr/local/lib/python3.10/dist-packages (from kaggle) (4.66.1)\n",
            "Requirement already satisfied: python-slugify in /usr/local/lib/python3.10/dist-packages (from kaggle) (8.0.1)\n",
            "Requirement already satisfied: urllib3 in /usr/local/lib/python3.10/dist-packages (from kaggle) (2.0.5)\n",
            "Requirement already satisfied: bleach in /usr/local/lib/python3.10/dist-packages (from kaggle) (6.0.0)\n",
            "Requirement already satisfied: webencodings in /usr/local/lib/python3.10/dist-packages (from bleach->kaggle) (0.5.1)\n",
            "Requirement already satisfied: text-unidecode>=1.3 in /usr/local/lib/python3.10/dist-packages (from python-slugify->kaggle) (1.3)\n",
            "Requirement already satisfied: charset-normalizer<4,>=2 in /usr/local/lib/python3.10/dist-packages (from requests->kaggle) (3.2.0)\n",
            "Requirement already satisfied: idna<4,>=2.5 in /usr/local/lib/python3.10/dist-packages (from requests->kaggle) (3.4)\n"
          ]
        }
      ]
    },
    {
      "cell_type": "markdown",
      "source": [
        "# Change the permissions of the file."
      ],
      "metadata": {
        "id": "cMEc3AexaKkM"
      }
    },
    {
      "cell_type": "code",
      "source": [
        "!chmod 600 /root/.kaggle/kaggle.json"
      ],
      "metadata": {
        "id": "0NC5VlO9S8mW"
      },
      "execution_count": 4,
      "outputs": []
    },
    {
      "cell_type": "markdown",
      "source": [
        "# List kaggle datasets\n",
        "- That's all ! You can check if everything's okay by running this command (not mandatory)."
      ],
      "metadata": {
        "id": "V-kM5loAaJVj"
      }
    },
    {
      "cell_type": "code",
      "source": [
        "!kaggle datasets list"
      ],
      "metadata": {
        "colab": {
          "base_uri": "https://localhost:8080/"
        },
        "id": "C7k69nphabMr",
        "outputId": "d08cceb7-8ba7-430c-8b3f-84a8586f943e"
      },
      "execution_count": 5,
      "outputs": [
        {
          "output_type": "stream",
          "name": "stdout",
          "text": [
            "ref                                                        title                                          size  lastUpdated          downloadCount  voteCount  usabilityRating  \n",
            "---------------------------------------------------------  --------------------------------------------  -----  -------------------  -------------  ---------  ---------------  \n",
            "nelgiriyewithana/top-spotify-songs-2023                    Most Streamed Spotify Songs 2023               47KB  2023-08-26 11:04:57          21974        664  1.0              \n",
            "emilrueh/laptops-and-notebooks-from-2020-2023              Laptops and Notebooks from 2020-2023           79KB  2023-09-29 15:14:05           1201         35  1.0              \n",
            "ddosad/timesworlduniversityrankings2024                    Times World University Rankings 2024          277KB  2023-09-29 11:36:45            632         28  1.0              \n",
            "joebeachcapital/students-performance                       Students Performance                            2KB  2023-08-31 00:50:11           7982        191  1.0              \n",
            "nelgiriyewithana/credit-card-fraud-detection-dataset-2023  Credit Card Fraud Detection Dataset 2023      143MB  2023-09-18 10:00:19           2868        102  1.0              \n",
            "zsinghrahulk/national-nutritional-survey                   National Nutritional Survey                    19KB  2023-09-26 10:45:58            532         22  1.0              \n",
            "tawfikelmetwally/employee-dataset                          Employee dataset                               19KB  2023-09-06 18:15:55           5428         93  0.9411765        \n",
            "iamsouravbanerjee/airline-dataset                          Airline Dataset                                13MB  2023-09-26 01:01:28           8035        162  1.0              \n",
            "carlmcbrideellis/zzzs-lightweight-training-dataset-target  Zzzs: Lightweight training dataset + target   185MB  2023-09-20 19:52:40            796         82  1.0              \n",
            "hamzacyberpatcher/data-of-1010-pokemons                    Data of 1017 pokemons                          82KB  2023-09-25 14:22:22            492         24  1.0              \n",
            "nelgiriyewithana/billionaires-statistics-dataset           Billionaires Statistics Dataset (2023)        139KB  2023-09-29 13:39:28            827         32  1.0              \n",
            "iamsouravbanerjee/heart-attack-prediction-dataset          Heart Attack Risk Prediction Dataset          519KB  2023-09-27 07:07:50           1057         38  1.0              \n",
            "stefanoleone992/ea-sports-fc-24-complete-player-dataset    EA Sports FC 24 complete player dataset        29MB  2023-09-29 11:24:41            613         25  1.0              \n",
            "patrickleal/brazilian-stadiums-dataset                     Brazilian FootBall Stadiums Dataset            27KB  2023-10-03 21:51:07            582         25  1.0              \n",
            "aemyjutt/diabetesdataanslysis                              DiabetesDataAnslysis                            9KB  2023-09-23 13:48:24           1327         32  1.0              \n",
            "jamiewelsh2/ball-by-ball-it20                              T20I Cricket Ball-by-Ball Data (2003 - 2023)    9MB  2023-09-20 14:59:39            456         24  1.0              \n",
            "mohidabdulrehman/ultimate-car-price-prediction-dataset     Ultimate Car Price Prediction Dataset         665KB  2023-09-23 10:11:48           1313         39  1.0              \n",
            "yapwh1208/supermarket-sales-data                           Supermarket Sales Data                          8MB  2023-09-22 01:06:21           2272         45  1.0              \n",
            "atharvbharaskar/students-test-data                         Students Test Data                              4KB  2023-09-12 10:07:18           1978         45  1.0              \n",
            "sujaykapadnis/horror-movies-dataset                        Horror Movies dataset                           6MB  2023-09-23 18:26:49           1100         44  1.0              \n"
          ]
        }
      ]
    },
    {
      "cell_type": "markdown",
      "source": [
        "Download datasets project"
      ],
      "metadata": {
        "id": "rvS7XVezaqP3"
      }
    },
    {
      "cell_type": "code",
      "source": [
        "!kaggle competitions download -c m2-sise-2023"
      ],
      "metadata": {
        "colab": {
          "base_uri": "https://localhost:8080/"
        },
        "id": "YJy6mzOlVpgO",
        "outputId": "a0e8d0e2-a403-4f99-a84f-ef4afe33d6bb"
      },
      "execution_count": 6,
      "outputs": [
        {
          "output_type": "stream",
          "name": "stdout",
          "text": [
            "Downloading m2-sise-2023.zip to /content\n",
            " 92% 281M/304M [00:03<00:00, 81.3MB/s]\n",
            "100% 304M/304M [00:03<00:00, 95.2MB/s]\n"
          ]
        }
      ]
    },
    {
      "cell_type": "markdown",
      "source": [
        "Unzip dataset file into a folder called \"content\""
      ],
      "metadata": {
        "id": "PqMiR3rAayrh"
      }
    },
    {
      "cell_type": "code",
      "source": [
        "import zipfile\n",
        "with zipfile.ZipFile(\"/content/m2-sise-2023.zip\", 'r') as zip_ref:\n",
        "    zip_ref.extractall(\"/content\")"
      ],
      "metadata": {
        "id": "mddzqVyuqVY_"
      },
      "execution_count": 7,
      "outputs": []
    },
    {
      "cell_type": "markdown",
      "source": [
        "# Data science pipeline ...\n",
        "(cleaning, feature engineering, modeling, etc)"
      ],
      "metadata": {
        "id": "Nk0DpykybpLz"
      }
    },
    {
      "cell_type": "markdown",
      "source": [
        "# Use sample_submission file to know the rigth format"
      ],
      "metadata": {
        "id": "qLyKHT0IcMv6"
      }
    },
    {
      "cell_type": "code",
      "source": [
        "# my_submission = ......\n",
        "# my_submission.to_csv(\"my_submission.csv\", index=False, header=True)"
      ],
      "metadata": {
        "id": "Y4q40UyprSrh"
      },
      "execution_count": null,
      "outputs": []
    },
    {
      "cell_type": "markdown",
      "source": [
        "# Submit your own submission file"
      ],
      "metadata": {
        "id": "QAnToedPcV3P"
      }
    },
    {
      "cell_type": "code",
      "source": [
        "# submit the file to kaggle\n",
        "!kaggle competitions submit m2-sise-2023 -f sample_submission.csv -m \"Yeah! I submit my file through the Google Colab!\""
      ],
      "metadata": {
        "colab": {
          "base_uri": "https://localhost:8080/"
        },
        "id": "X-yEspBeTKTX",
        "outputId": "418adf28-be43-4b1c-8937-4da953a5dc56"
      },
      "execution_count": 8,
      "outputs": [
        {
          "output_type": "stream",
          "name": "stdout",
          "text": [
            "100% 9.13M/9.13M [00:02<00:00, 3.37MB/s]\n",
            "Successfully submitted to M2-SISE-2023  Sarde Immo"
          ]
        }
      ]
    }
  ]
}